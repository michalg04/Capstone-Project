{
 "cells": [
  {
   "cell_type": "code",
   "execution_count": 82,
   "metadata": {},
   "outputs": [],
   "source": [
    "import pandas as pd\n",
    "import numpy as np\n",
    "import time\n",
    "import re\n",
    "import ast\n",
    "import nltk\n",
    "from nltk.corpus import stopwords\n",
    "\n",
    "start_time = time.time()\n",
    "\n",
    "reviews = pd.read_pickle(\"florida_features_with_text.p\")\n",
    "reviews = reviews.iloc[0:5]\n",
    "reviews2 = reviews.copy()\n",
    "lex = pd.read_csv(\"Trafficking_Lexicon.csv\").dropna().rename(columns={'Human Trafficking (weight 0-1-2)':'HT_Weight',\n",
    "                                                                     \"Test Weight (0-1-2)\":\"Sex_Weight\"})\n",
    "sw = set(stopwords.words('english'))"
   ]
  },
  {
   "cell_type": "code",
   "execution_count": 87,
   "metadata": {},
   "outputs": [
    {
     "data": {
      "text/plain": [
       "True"
      ]
     },
     "execution_count": 87,
     "metadata": {},
     "output_type": "execute_result"
    }
   ],
   "source": [
    "'so' in sw"
   ]
  },
  {
   "cell_type": "code",
   "execution_count": 10,
   "metadata": {},
   "outputs": [],
   "source": [
    "ht_dict = pd.Series(lex.HT_Weight.values, index=lex.TERM)\n",
    "sex_dict = pd.Series(lex.Sex_Weight.values, index=lex.TERM)\n",
    "\n",
    "ht_dict = ht_dict.reset_index()\n",
    "ht_dict['TERM'] = ht_dict['TERM'].apply(lambda x: x.lower())\n",
    "ht_dict.index = ht_dict[\"TERM\"]\n",
    "ht_dict = ht_dict.drop(\"TERM\", axis=1)\n",
    "ht_dict = ht_dict.to_dict()[0]\n",
    "\n",
    "sex_dict = sex_dict.reset_index()\n",
    "sex_dict['TERM'] = sex_dict['TERM'].apply(lambda x: x.lower())\n",
    "sex_dict.index = sex_dict[\"TERM\"]\n",
    "sex_dict = sex_dict.drop(\"TERM\", axis=1)\n",
    "sex_dict = sex_dict.to_dict()[0]"
   ]
  },
  {
   "cell_type": "code",
   "execution_count": 65,
   "metadata": {},
   "outputs": [],
   "source": [
    "def lex_score_real(row):\n",
    "    ht_0 = []\n",
    "    ht_1 = []\n",
    "    ht_2 = []\n",
    "    sex_0 = []\n",
    "    sex_1 = []\n",
    "    sex_2 = []\n",
    "\n",
    "    if(pd.notnull(row['clean_reviews'])):\n",
    "        for term in ht_dict.keys():\n",
    "            term_padded = \" \" + re.escape(term) + \" \"\n",
    "            row_padded = \" \" + row['clean_reviews'] + \" \"\n",
    "            indices = [(m.start(), m.end()) for m in re.finditer(term_padded, row_padded)]\n",
    "            if indices != []:\n",
    "                if ht_dict[term] == 0:\n",
    "                    ht_0.extend(indices)\n",
    "                elif ht_dict[term] == 1:\n",
    "                    ht_1.extend(indices)\n",
    "                elif ht_dict[term] == 2:\n",
    "                    ht_2.extend(indices)\n",
    "                    \n",
    "                if sex_dict[term] == 0:\n",
    "                    sex_0.extend(indices)\n",
    "                elif sex_dict[term] == 1:\n",
    "                    sex_1.extend(indices)\n",
    "                elif sex_dict[term] == 2:\n",
    "                    sex_2.extend(indices)   \n",
    "                    \n",
    "    ht_0.sort(key=lambda x: x[0])\n",
    "    ht_1.sort(key=lambda x: x[0])\n",
    "    ht_2.sort(key=lambda x: x[0])\n",
    "    \n",
    "    sex_0.sort(key=lambda x: x[0])\n",
    "    sex_1.sort(key=lambda x: x[0])\n",
    "    sex_2.sort(key=lambda x: x[0])\n",
    "    \n",
    "    HT_uni_0_count = len(ht_0)\n",
    "    HT_uni_1_count = len(ht_1)\n",
    "    HT_uni_2_count = len(ht_2)\n",
    "    sex_uni_0_count = len(sex_0)\n",
    "    sex_uni_1_count = len(sex_1)\n",
    "    sex_uni_2_count = len(sex_2)\n",
    "    \n",
    "    HT_bi_0_count = count_bigrams(ht_0)\n",
    "    HT_bi_1_count = count_bigrams(ht_1)\n",
    "    HT_bi_2_count = count_bigrams(ht_2)\n",
    "    HT_tri_0_count = count_trigrams(ht_0)\n",
    "    HT_tri_1_count = count_trigrams(ht_2)\n",
    "    HT_tri_2_count = count_trigrams(ht_2)\n",
    "\n",
    "    sex_bi_0_count = count_bigrams(sex_0)\n",
    "    sex_bi_1_count = count_bigrams(sex_1)\n",
    "    sex_bi_2_count = count_bigrams(sex_2)\n",
    "    sex_tri_0_count = count_trigrams(sex_0)\n",
    "    sex_tri_1_count = count_trigrams(sex_1)\n",
    "    sex_tri_2_count = count_trigrams(sex_2)\n",
    "    \n",
    "    row['HT_bi_0_count'] = HT_bi_0_count\n",
    "    row['HT_bi_1_count'] = HT_bi_1_count\n",
    "    row['HT_bi_2_count'] = HT_bi_2_count\n",
    "    row['HT_tri_0_count'] = HT_tri_0_count\n",
    "    row['HT_tri_1_count'] = HT_tri_1_count\n",
    "    row['HT_tri_2_count'] = HT_tri_2_count\n",
    "    row['HT_uni_0_count'] = HT_uni_0_count\n",
    "    row['HT_uni_1_count'] = HT_uni_1_count\n",
    "    row['HT_uni_2_count'] = HT_uni_2_count\n",
    "    \n",
    "    row['sex_bi_0_count'] = sex_bi_0_count\n",
    "    row['sex_bi_1_count'] = sex_bi_1_count\n",
    "    row['sex_bi_2_count'] = sex_bi_2_count\n",
    "    row['sex_tri_0_count'] = sex_tri_0_count\n",
    "    row['sex_tri_1_count'] = sex_tri_1_count\n",
    "    row['sex_tri_2_count'] = sex_tri_2_count\n",
    "    row['sex_uni_0_count'] = sex_uni_0_count\n",
    "    row['sex_uni_1_count'] = sex_uni_1_count\n",
    "    row['sex_uni_2_count'] = sex_uni_2_count\n",
    "    \n",
    "    return row\n",
    "\n",
    "def count_bigrams(l):\n",
    "    bis = 0\n",
    "    for i in range(len(l) - 1):\n",
    "        # if end of current overlaps with start of next\n",
    "        if l[i][1] >= l[i+1][0]:\n",
    "            bis += 1\n",
    "    return bis\n",
    "\n",
    "def count_trigrams(l):\n",
    "    tris = 0\n",
    "    for i in range(len(l) - 2):\n",
    "        # if end of current overlaps with start of next and end of next \n",
    "        # overlaps start of next next\n",
    "        if l[i][1] >= l[i+1][0] and l[i+1][1] >= l[i+2][0]:\n",
    "            tris += 1\n",
    "    return tris"
   ]
  },
  {
   "cell_type": "code",
   "execution_count": 66,
   "metadata": {},
   "outputs": [],
   "source": [
    "reviews_new = reviews.apply(lex_score_real, axis=1)"
   ]
  },
  {
   "cell_type": "code",
   "execution_count": 89,
   "metadata": {},
   "outputs": [
    {
     "data": {
      "text/plain": [
       "'attractive looking women involved experience really wanted see sarah tina tiffany also sarah really pretty looking made feel good went experience wanting felt hands move around body hints getting session sarah smile looked cute sure dressed conservatively didnt get flip foot massage nice massage awesome felt like sarah great girl bad didnt really area anyway'"
      ]
     },
     "execution_count": 89,
     "metadata": {},
     "output_type": "execute_result"
    }
   ],
   "source": [
    "reviews2.iloc[1]['clean_reviews']"
   ]
  },
  {
   "cell_type": "markdown",
   "metadata": {},
   "source": [
    "Notable things that are not in the lexicon: \n",
    "\"hand job\" ,\n",
    "\"titty\" ,\n",
    "\"titty sucking\""
   ]
  },
  {
   "cell_type": "code",
   "execution_count": 72,
   "metadata": {},
   "outputs": [
    {
     "data": {
      "text/plain": [
       "HT_bi_0_count                                                              0\n",
       "HT_bi_1_count                                                              0\n",
       "HT_bi_2_count                                                              0\n",
       "HT_total_lexicon_score                                                     0\n",
       "HT_tri_0_count                                                             0\n",
       "HT_tri_1_count                                                             0\n",
       "HT_tri_2_count                                                             0\n",
       "HT_uni_0_count                                                             5\n",
       "HT_uni_1_count                                                             0\n",
       "HT_uni_2_count                                                             0\n",
       "actual                                                                     1\n",
       "clean_reviews              changed name sign says asian massage massage 6...\n",
       "lemm_reviews               change name sign say asian massage massage 6 1...\n",
       "norm_id                                                  26.56565:-81.87146#\n",
       "sex_bi_0_count                                                             0\n",
       "sex_bi_1_count                                                             0\n",
       "sex_bi_2_count                                                             0\n",
       "sex_total_lexicon_score                                                    2\n",
       "sex_tri_0_count                                                            0\n",
       "sex_tri_1_count                                                            0\n",
       "sex_tri_2_count                                                            0\n",
       "sex_uni_0_count                                                            3\n",
       "sex_uni_1_count                                                            2\n",
       "sex_uni_2_count                                                            0\n",
       "yelp                                                                       0\n",
       "rubmaps                                                                    1\n",
       "Name: 3, dtype: object"
      ]
     },
     "execution_count": 72,
     "metadata": {},
     "output_type": "execute_result"
    }
   ],
   "source": [
    "reviews2.iloc[3]"
   ]
  },
  {
   "cell_type": "code",
   "execution_count": 68,
   "metadata": {},
   "outputs": [
    {
     "data": {
      "text/plain": [
       "HT_bi_0_count                                                              1\n",
       "HT_bi_1_count                                                              0\n",
       "HT_bi_2_count                                                              0\n",
       "HT_total_lexicon_score                                                     0\n",
       "HT_tri_0_count                                                             0\n",
       "HT_tri_1_count                                                             0\n",
       "HT_tri_2_count                                                             0\n",
       "HT_uni_0_count                                                             4\n",
       "HT_uni_1_count                                                             0\n",
       "HT_uni_2_count                                                             0\n",
       "actual                                                                     1\n",
       "clean_reviews              changed name sign says asian massage massage 6...\n",
       "lemm_reviews               change name sign say asian massage massage 6 1...\n",
       "norm_id                                                  26.56565:-81.87146#\n",
       "sex_bi_0_count                                                             0\n",
       "sex_bi_1_count                                                             0\n",
       "sex_bi_2_count                                                             0\n",
       "sex_total_lexicon_score                                                    2\n",
       "sex_tri_0_count                                                            0\n",
       "sex_tri_1_count                                                            0\n",
       "sex_tri_2_count                                                            0\n",
       "sex_uni_0_count                                                            2\n",
       "sex_uni_1_count                                                            2\n",
       "sex_uni_2_count                                                            0\n",
       "yelp                                                                       0\n",
       "rubmaps                                                                    1\n",
       "Name: 3, dtype: object"
      ]
     },
     "execution_count": 68,
     "metadata": {},
     "output_type": "execute_result"
    }
   ],
   "source": [
    "reviews_new.iloc[3]"
   ]
  },
  {
   "cell_type": "code",
   "execution_count": 58,
   "metadata": {
    "jupyter": {
     "source_hidden": true
    }
   },
   "outputs": [],
   "source": [
    "\n",
    "def lex_score(row):\n",
    "    HT_total_lexicon_score = 0\n",
    "    sex_total_lexicon_score = 0\n",
    "    \n",
    "    HT_bi_0_count = 0\n",
    "    HT_bi_1_count = 0\n",
    "    HT_bi_2_count = 0\n",
    "    HT_tri_0_count = 0\n",
    "    HT_tri_1_count = 0\n",
    "    HT_tri_2_count = 0\n",
    "    HT_uni_0_count = 0\n",
    "    HT_uni_1_count = 0\n",
    "    HT_uni_2_count = 0\n",
    "    \n",
    "    sex_bi_0_count = 0\n",
    "    sex_bi_1_count = 0\n",
    "    sex_bi_2_count = 0\n",
    "    sex_tri_0_count = 0\n",
    "    sex_tri_1_count = 0\n",
    "    sex_tri_2_count = 0\n",
    "    sex_uni_0_count = 0\n",
    "    sex_uni_1_count = 0\n",
    "    sex_uni_2_count = 0\n",
    "    \n",
    "    bi_count = 0\n",
    "    tri_count = 0\n",
    "    \n",
    "    sex_bi_score = 0\n",
    "    sex_tri_score = 0\n",
    "    HT_bi_score = 0\n",
    "    HT_tri_score = 0\n",
    "    \n",
    "    prev_any_terms = 0\n",
    "\n",
    "    prev_sex_0_terms = 0\n",
    "    prev_sex_1_terms = 0\n",
    "    prev_sex_2_terms = 0\n",
    "    \n",
    "    prev_HT_0_terms = 0\n",
    "    prev_HT_1_terms = 0\n",
    "    prev_HT_2_terms = 0\n",
    "    \n",
    "    if(pd.notnull(row['clean_reviews'])):\n",
    "        for word_upper in row['clean_reviews'].split(' '):\n",
    "            word=word_upper.lower().strip(\" \")\n",
    "            print(word)\n",
    "            if word in ht_dict.keys():\n",
    "                HT_total_lexicon_score += ht_dict[word]\n",
    "                sex_total_lexicon_score += sex_dict[word]\n",
    "                \n",
    "                if prev_any_terms == 1:\n",
    "                    bi_count += 1\n",
    "                    HT_bi_score += ht_dict[word]\n",
    "                    sex_bi_score += sex_dict[word]\n",
    "                    \n",
    "                elif prev_any_terms > 1:\n",
    "                    tri_count += 1\n",
    "                    HT_tri_score += ht_dict[word]\n",
    "                    sex_tri_score += sex_dict[word]\n",
    "                    \n",
    "                prev_any_terms += 1\n",
    "                \n",
    "                if ht_dict[word] == 0:\n",
    "                    HT_uni_0_count += 1\n",
    "                    \n",
    "                    if prev_HT_0_terms == 1:\n",
    "                        HT_bi_0_count += 1\n",
    "                    elif prev_HT_0_terms > 1:\n",
    "                        HT_tri_0_count += 1\n",
    "                    \n",
    "                    prev_HT_0_terms += 1\n",
    "                    prev_HT_1_terms = 0\n",
    "                    prev_HT_2_terms = 0\n",
    "                    \n",
    "                elif ht_dict[word] == 1:\n",
    "                    HT_uni_1_count += 1\n",
    "                    \n",
    "                    if prev_HT_1_terms == 1:\n",
    "                        HT_bi_1_count += 1\n",
    "                    elif prev_HT_1_terms > 1:\n",
    "                        HT_tri_1_count += 1\n",
    "                        \n",
    "                    prev_HT_1_terms += 1\n",
    "                    prev_HT_0_terms = 0\n",
    "                    prev_HT_2_terms = 0\n",
    "                    \n",
    "                elif ht_dict[word] == 2:\n",
    "                    HT_uni_2_count += 1\n",
    "                    \n",
    "                    if prev_HT_2_terms == 1:\n",
    "                        HT_bi_2_count += 1\n",
    "                    elif prev_HT_2_terms > 1:\n",
    "                        HT_tri_2_count += 1\n",
    "                        \n",
    "                    prev_HT_2_terms += 1\n",
    "                    prev_HT_0_terms = 0\n",
    "                    prev_HT_1_terms = 0\n",
    "                    \n",
    "                if sex_dict[word] == 0:\n",
    "                    sex_uni_0_count += 1\n",
    "                    \n",
    "                    if prev_sex_0_terms == 1:\n",
    "                        sex_bi_0_count += 1\n",
    "                    elif prev_sex_0_terms > 1:\n",
    "                        sex_tri_0_count += 1\n",
    "                    \n",
    "                    prev_sex_0_terms += 1\n",
    "                    prev_sex_1_terms = 0\n",
    "                    prev_sex_2_terms = 0\n",
    "                    \n",
    "                elif sex_dict[word] == 1:\n",
    "                    sex_uni_1_count += 1\n",
    "                    \n",
    "                    if prev_sex_1_terms == 1:\n",
    "                        sex_bi_1_count += 1\n",
    "                    elif prev_sex_1_terms > 1:\n",
    "                        sex_tri_1_count += 1\n",
    "                    \n",
    "                    prev_sex_0_terms = 0\n",
    "                    prev_sex_1_terms += 1\n",
    "                    prev_sex_2_terms = 0\n",
    "                    \n",
    "                elif sex_dict[word] == 2:\n",
    "                    sex_uni_2_count += 1\n",
    "                    \n",
    "                    if prev_sex_2_terms == 1:\n",
    "                        sex_bi_2_count += 1\n",
    "                    elif prev_sex_2_terms > 1:\n",
    "                        sex_tri_2_count += 1\n",
    "                    \n",
    "                    prev_sex_0_terms = 0\n",
    "                    prev_sex_1_terms = 0\n",
    "                    prev_sex_2_terms += 1\n",
    "            else:\n",
    "                prev_sex_0_terms = 0\n",
    "                prev_sex_1_terms = 0\n",
    "                prev_sex_2_terms = 0\n",
    "                prev_any_terms = 0\n",
    "\n",
    "                prev_HT_0_terms = 0\n",
    "                prev_HT_1_terms = 0\n",
    "                prev_HT_2_terms = 0\n",
    "    \n",
    "    row['HT_total_lexicon_score'] = HT_total_lexicon_score\n",
    "    row['sex_total_lexicon_score'] = sex_total_lexicon_score\n",
    "    \n",
    "    row['HT_bi_0_count'] = HT_bi_0_count\n",
    "    row['HT_bi_1_count'] = HT_bi_1_count\n",
    "    row['HT_bi_2_count'] = HT_bi_2_count\n",
    "    row['HT_tri_0_count'] = HT_tri_0_count\n",
    "    row['HT_tri_1_count'] = HT_tri_1_count\n",
    "    row['HT_tri_2_count'] = HT_tri_2_count\n",
    "    row['HT_uni_0_count'] = HT_uni_0_count\n",
    "    row['HT_uni_1_count'] = HT_uni_1_count\n",
    "    row['HT_uni_2_count'] = HT_uni_2_count\n",
    "    \n",
    "    row['sex_bi_0_count'] = sex_bi_0_count\n",
    "    row['sex_bi_1_count'] = sex_bi_1_count\n",
    "    row['sex_bi_2_count'] = sex_bi_2_count\n",
    "    row['sex_tri_0_count'] = sex_tri_0_count\n",
    "    row['sex_tri_1_count'] = sex_tri_1_count\n",
    "    row['sex_tri_2_count'] = sex_tri_2_count\n",
    "    row['sex_uni_0_count'] = sex_uni_0_count\n",
    "    row['sex_uni_1_count'] = sex_uni_1_count\n",
    "    row['sex_uni_2_count'] = sex_uni_2_count\n",
    "    \n",
    "    row['bi_count'] = bi_count\n",
    "    row['tri_count'] = tri_count\n",
    "    \n",
    "    row['sex_bi_score'] = sex_bi_score\n",
    "    row['sex_tri_score'] = sex_tri_score\n",
    "    row['HT_bi_score'] = HT_bi_score\n",
    "    row['HT_tri_score'] = HT_tri_score\n",
    "    return row\n",
    "\n",
    "reviews = reviews.apply(lex_score, axis=1)\n",
    "#reviews.to_pickle('review_features.p')\n",
    "#runtime = time.time() - start_time\n",
    "#with open(\"features_runtime.txt\", 'w') as file:\n",
    "    #file.write(str(runtime))\n"
   ]
  },
  {
   "cell_type": "code",
   "execution_count": 32,
   "metadata": {},
   "outputs": [
    {
     "name": "stdout",
     "output_type": "stream",
     "text": [
      "117 122\n",
      "'cmt l'\n",
      "127 140\n",
      "'deep tissue a'\n",
      "246 259\n",
      "'deep tissue b'\n",
      "455 459\n",
      "'dt m'\n",
      "121 128\n",
      "'level d'\n",
      "458 467\n",
      "'massage r'\n",
      "528 538\n",
      "'provider g'\n"
     ]
    }
   ],
   "source": [
    "ht_0_ours = [(117, 122), (127, 140), (246, 259), (455, 459), (121, 128), (458, 467), (528, 538)]\n",
    "for l,u in ht_0_ours:\n",
    "    print(l,u)\n",
    "    print(\"'\" + reviews_new.iloc[2]['clean_reviews'][l:u] + \"'\")"
   ]
  },
  {
   "cell_type": "code",
   "execution_count": 44,
   "metadata": {},
   "outputs": [],
   "source": [
    "ht_0_ours.sort(key=lambda x: x[0])"
   ]
  },
  {
   "cell_type": "code",
   "execution_count": 50,
   "metadata": {},
   "outputs": [
    {
     "data": {
      "text/plain": [
       "[(117, 122),\n",
       " (121, 128),\n",
       " (127, 140),\n",
       " (246, 259),\n",
       " (455, 459),\n",
       " (458, 467),\n",
       " (528, 538)]"
      ]
     },
     "execution_count": 50,
     "metadata": {},
     "output_type": "execute_result"
    }
   ],
   "source": [
    "ht_0_ours"
   ]
  },
  {
   "cell_type": "code",
   "execution_count": 53,
   "metadata": {},
   "outputs": [],
   "source": [
    "def count_bigrams(l):\n",
    "    bis = 0\n",
    "    for i in range(len(l) - 1):\n",
    "        # if end of current overlaps with start of next\n",
    "        if l[i][1] >= l[i+1][0]:\n",
    "            bis += 1\n",
    "    return bis\n",
    "\n",
    "def count_trigrams(l):\n",
    "    tris = 0\n",
    "    for i in range(len(l) - 2):\n",
    "        # if end of current overlaps with start of next and end of next \n",
    "        # overlaps start of next next\n",
    "        if l[i][1] >= l[i+1][0] and l[i+1][1] >= l[i+2][0]:\n",
    "            tris += 1\n",
    "    return tris"
   ]
  },
  {
   "cell_type": "code",
   "execution_count": 54,
   "metadata": {},
   "outputs": [
    {
     "data": {
      "text/plain": [
       "3"
      ]
     },
     "execution_count": 54,
     "metadata": {},
     "output_type": "execute_result"
    }
   ],
   "source": [
    "count_bigrams(ht_0_ours)"
   ]
  },
  {
   "cell_type": "code",
   "execution_count": 55,
   "metadata": {},
   "outputs": [
    {
     "data": {
      "text/plain": [
       "1"
      ]
     },
     "execution_count": 55,
     "metadata": {},
     "output_type": "execute_result"
    }
   ],
   "source": [
    "count_trigrams(ht_0_ours)"
   ]
  },
  {
   "cell_type": "code",
   "execution_count": null,
   "metadata": {},
   "outputs": [],
   "source": []
  }
 ],
 "metadata": {
  "kernelspec": {
   "display_name": "Python 3",
   "language": "python",
   "name": "python3"
  },
  "language_info": {
   "codemirror_mode": {
    "name": "ipython",
    "version": 3
   },
   "file_extension": ".py",
   "mimetype": "text/x-python",
   "name": "python",
   "nbconvert_exporter": "python",
   "pygments_lexer": "ipython3",
   "version": "3.7.6"
  }
 },
 "nbformat": 4,
 "nbformat_minor": 4
}
