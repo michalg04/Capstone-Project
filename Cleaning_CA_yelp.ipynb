{
 "cells": [
  {
   "cell_type": "code",
   "execution_count": 1,
   "metadata": {},
   "outputs": [
    {
     "name": "stderr",
     "output_type": "stream",
     "text": [
      "/Users/michalgolovanevsky/anaconda3/lib/python3.7/site-packages/IPython/core/interactiveshell.py:3058: DtypeWarning: Columns (6,12,13,14,15,17,19,23,35) have mixed types. Specify dtype option on import or set low_memory=False.\n",
      "  interactivity=interactivity, compiler=compiler, result=result)\n"
     ]
    },
    {
     "data": {
      "text/html": [
       "<div>\n",
       "<style scoped>\n",
       "    .dataframe tbody tr th:only-of-type {\n",
       "        vertical-align: middle;\n",
       "    }\n",
       "\n",
       "    .dataframe tbody tr th {\n",
       "        vertical-align: top;\n",
       "    }\n",
       "\n",
       "    .dataframe thead th {\n",
       "        text-align: right;\n",
       "    }\n",
       "</style>\n",
       "<table border=\"1\" class=\"dataframe\">\n",
       "  <thead>\n",
       "    <tr style=\"text-align: right;\">\n",
       "      <th></th>\n",
       "      <th>@context</th>\n",
       "      <th>@type</th>\n",
       "      <th>_raw</th>\n",
       "      <th>_time</th>\n",
       "      <th>adLoggingInfo.placement</th>\n",
       "      <th>adLoggingInfo.slot</th>\n",
       "      <th>address</th>\n",
       "      <th>address.addressCountry</th>\n",
       "      <th>address.addressLocality</th>\n",
       "      <th>address.addressRegion</th>\n",
       "      <th>...</th>\n",
       "      <th>splunk_server</th>\n",
       "      <th>splunk_server_group</th>\n",
       "      <th>telephone</th>\n",
       "      <th>verifiedLicenseInfo.bizSiteUrl</th>\n",
       "      <th>verifiedLicenseInfo.licenses{}.expiryDate</th>\n",
       "      <th>verifiedLicenseInfo.licenses{}.issuedBy</th>\n",
       "      <th>verifiedLicenseInfo.licenses{}.licenseNumber</th>\n",
       "      <th>verifiedLicenseInfo.licenses{}.licensee</th>\n",
       "      <th>verifiedLicenseInfo.licenses{}.trade</th>\n",
       "      <th>verifiedLicenseInfo.licenses{}.verifiedDate</th>\n",
       "    </tr>\n",
       "  </thead>\n",
       "  <tbody>\n",
       "    <tr>\n",
       "      <th>0</th>\n",
       "      <td>http://schema.org/</td>\n",
       "      <td>LocalBusiness</td>\n",
       "      <td>{\"aggregateRating\":{\"reviewCount\":56,\"@type\":\"...</td>\n",
       "      <td>2020-02-08T15:04:22.000+0000</td>\n",
       "      <td>NaN</td>\n",
       "      <td>NaN</td>\n",
       "      <td>NaN</td>\n",
       "      <td>US</td>\n",
       "      <td>Los Angeles</td>\n",
       "      <td>CA</td>\n",
       "      <td>...</td>\n",
       "      <td>gen</td>\n",
       "      <td>dmc_group_indexer\\ndmc_group_kv_store\\ndmc_gro...</td>\n",
       "      <td>1.323657e+10</td>\n",
       "      <td>NaN</td>\n",
       "      <td>NaN</td>\n",
       "      <td>NaN</td>\n",
       "      <td>NaN</td>\n",
       "      <td>NaN</td>\n",
       "      <td>NaN</td>\n",
       "      <td>NaN</td>\n",
       "    </tr>\n",
       "    <tr>\n",
       "      <th>1</th>\n",
       "      <td>http://schema.org/</td>\n",
       "      <td>LocalBusiness</td>\n",
       "      <td>{\"aggregateRating\":{\"reviewCount\":29,\"@type\":\"...</td>\n",
       "      <td>2020-02-08T15:04:03.000+0000</td>\n",
       "      <td>NaN</td>\n",
       "      <td>NaN</td>\n",
       "      <td>NaN</td>\n",
       "      <td>US</td>\n",
       "      <td>Los Angeles</td>\n",
       "      <td>CA</td>\n",
       "      <td>...</td>\n",
       "      <td>gen</td>\n",
       "      <td>dmc_group_indexer\\ndmc_group_kv_store\\ndmc_gro...</td>\n",
       "      <td>1.323876e+10</td>\n",
       "      <td>NaN</td>\n",
       "      <td>NaN</td>\n",
       "      <td>NaN</td>\n",
       "      <td>NaN</td>\n",
       "      <td>NaN</td>\n",
       "      <td>NaN</td>\n",
       "      <td>NaN</td>\n",
       "    </tr>\n",
       "    <tr>\n",
       "      <th>2</th>\n",
       "      <td>http://schema.org/</td>\n",
       "      <td>LocalBusiness</td>\n",
       "      <td>{\"aggregateRating\":{\"reviewCount\":4,\"@type\":\"A...</td>\n",
       "      <td>2020-02-08T15:01:25.000+0000</td>\n",
       "      <td>NaN</td>\n",
       "      <td>NaN</td>\n",
       "      <td>NaN</td>\n",
       "      <td>US</td>\n",
       "      <td>Tustin</td>\n",
       "      <td>CA</td>\n",
       "      <td>...</td>\n",
       "      <td>gen</td>\n",
       "      <td>dmc_group_indexer\\ndmc_group_kv_store\\ndmc_gro...</td>\n",
       "      <td>1.714625e+10</td>\n",
       "      <td>NaN</td>\n",
       "      <td>NaN</td>\n",
       "      <td>NaN</td>\n",
       "      <td>NaN</td>\n",
       "      <td>NaN</td>\n",
       "      <td>NaN</td>\n",
       "      <td>NaN</td>\n",
       "    </tr>\n",
       "    <tr>\n",
       "      <th>3</th>\n",
       "      <td>http://schema.org/</td>\n",
       "      <td>LocalBusiness</td>\n",
       "      <td>{\"aggregateRating\":{\"reviewCount\":20,\"@type\":\"...</td>\n",
       "      <td>2020-02-07T21:43:39.000+0000</td>\n",
       "      <td>NaN</td>\n",
       "      <td>NaN</td>\n",
       "      <td>NaN</td>\n",
       "      <td>US</td>\n",
       "      <td>West Hollywood</td>\n",
       "      <td>CA</td>\n",
       "      <td>...</td>\n",
       "      <td>gen</td>\n",
       "      <td>dmc_group_indexer\\ndmc_group_kv_store\\ndmc_gro...</td>\n",
       "      <td>1.310211e+10</td>\n",
       "      <td>NaN</td>\n",
       "      <td>NaN</td>\n",
       "      <td>NaN</td>\n",
       "      <td>NaN</td>\n",
       "      <td>NaN</td>\n",
       "      <td>NaN</td>\n",
       "      <td>NaN</td>\n",
       "    </tr>\n",
       "    <tr>\n",
       "      <th>4</th>\n",
       "      <td>http://schema.org/</td>\n",
       "      <td>LocalBusiness</td>\n",
       "      <td>{\"review\":[],\"name\":\"Alexander Braun Hairstyli...</td>\n",
       "      <td>2020-02-07T21:43:38.000+0000</td>\n",
       "      <td>NaN</td>\n",
       "      <td>NaN</td>\n",
       "      <td>NaN</td>\n",
       "      <td>US</td>\n",
       "      <td>West Hollywood</td>\n",
       "      <td>CA</td>\n",
       "      <td>...</td>\n",
       "      <td>gen</td>\n",
       "      <td>dmc_group_indexer\\ndmc_group_kv_store\\ndmc_gro...</td>\n",
       "      <td>1.818307e+10</td>\n",
       "      <td>NaN</td>\n",
       "      <td>NaN</td>\n",
       "      <td>NaN</td>\n",
       "      <td>NaN</td>\n",
       "      <td>NaN</td>\n",
       "      <td>NaN</td>\n",
       "      <td>NaN</td>\n",
       "    </tr>\n",
       "  </tbody>\n",
       "</table>\n",
       "<p>5 rows × 106 columns</p>\n",
       "</div>"
      ],
      "text/plain": [
       "             @context          @type  \\\n",
       "0  http://schema.org/  LocalBusiness   \n",
       "1  http://schema.org/  LocalBusiness   \n",
       "2  http://schema.org/  LocalBusiness   \n",
       "3  http://schema.org/  LocalBusiness   \n",
       "4  http://schema.org/  LocalBusiness   \n",
       "\n",
       "                                                _raw  \\\n",
       "0  {\"aggregateRating\":{\"reviewCount\":56,\"@type\":\"...   \n",
       "1  {\"aggregateRating\":{\"reviewCount\":29,\"@type\":\"...   \n",
       "2  {\"aggregateRating\":{\"reviewCount\":4,\"@type\":\"A...   \n",
       "3  {\"aggregateRating\":{\"reviewCount\":20,\"@type\":\"...   \n",
       "4  {\"review\":[],\"name\":\"Alexander Braun Hairstyli...   \n",
       "\n",
       "                          _time  adLoggingInfo.placement  adLoggingInfo.slot  \\\n",
       "0  2020-02-08T15:04:22.000+0000                      NaN                 NaN   \n",
       "1  2020-02-08T15:04:03.000+0000                      NaN                 NaN   \n",
       "2  2020-02-08T15:01:25.000+0000                      NaN                 NaN   \n",
       "3  2020-02-07T21:43:39.000+0000                      NaN                 NaN   \n",
       "4  2020-02-07T21:43:38.000+0000                      NaN                 NaN   \n",
       "\n",
       "  address address.addressCountry address.addressLocality  \\\n",
       "0     NaN                     US             Los Angeles   \n",
       "1     NaN                     US             Los Angeles   \n",
       "2     NaN                     US                  Tustin   \n",
       "3     NaN                     US          West Hollywood   \n",
       "4     NaN                     US          West Hollywood   \n",
       "\n",
       "  address.addressRegion  ...  splunk_server  \\\n",
       "0                    CA  ...            gen   \n",
       "1                    CA  ...            gen   \n",
       "2                    CA  ...            gen   \n",
       "3                    CA  ...            gen   \n",
       "4                    CA  ...            gen   \n",
       "\n",
       "                                 splunk_server_group     telephone  \\\n",
       "0  dmc_group_indexer\\ndmc_group_kv_store\\ndmc_gro...  1.323657e+10   \n",
       "1  dmc_group_indexer\\ndmc_group_kv_store\\ndmc_gro...  1.323876e+10   \n",
       "2  dmc_group_indexer\\ndmc_group_kv_store\\ndmc_gro...  1.714625e+10   \n",
       "3  dmc_group_indexer\\ndmc_group_kv_store\\ndmc_gro...  1.310211e+10   \n",
       "4  dmc_group_indexer\\ndmc_group_kv_store\\ndmc_gro...  1.818307e+10   \n",
       "\n",
       "  verifiedLicenseInfo.bizSiteUrl verifiedLicenseInfo.licenses{}.expiryDate  \\\n",
       "0                            NaN                                       NaN   \n",
       "1                            NaN                                       NaN   \n",
       "2                            NaN                                       NaN   \n",
       "3                            NaN                                       NaN   \n",
       "4                            NaN                                       NaN   \n",
       "\n",
       "  verifiedLicenseInfo.licenses{}.issuedBy  \\\n",
       "0                                     NaN   \n",
       "1                                     NaN   \n",
       "2                                     NaN   \n",
       "3                                     NaN   \n",
       "4                                     NaN   \n",
       "\n",
       "   verifiedLicenseInfo.licenses{}.licenseNumber  \\\n",
       "0                                           NaN   \n",
       "1                                           NaN   \n",
       "2                                           NaN   \n",
       "3                                           NaN   \n",
       "4                                           NaN   \n",
       "\n",
       "  verifiedLicenseInfo.licenses{}.licensee  \\\n",
       "0                                     NaN   \n",
       "1                                     NaN   \n",
       "2                                     NaN   \n",
       "3                                     NaN   \n",
       "4                                     NaN   \n",
       "\n",
       "   verifiedLicenseInfo.licenses{}.trade  \\\n",
       "0                                   NaN   \n",
       "1                                   NaN   \n",
       "2                                   NaN   \n",
       "3                                   NaN   \n",
       "4                                   NaN   \n",
       "\n",
       "  verifiedLicenseInfo.licenses{}.verifiedDate  \n",
       "0                                         NaN  \n",
       "1                                         NaN  \n",
       "2                                         NaN  \n",
       "3                                         NaN  \n",
       "4                                         NaN  \n",
       "\n",
       "[5 rows x 106 columns]"
      ]
     },
     "execution_count": 1,
     "metadata": {},
     "output_type": "execute_result"
    }
   ],
   "source": [
    "import pandas as pd\n",
    "import pickle\n",
    "yelp = pd.read_csv(\"ca_yelp.csv\")\n",
    "yelp.head()"
   ]
  },
  {
   "cell_type": "code",
   "execution_count": 17,
   "metadata": {},
   "outputs": [],
   "source": [
    "pickle.dump(yelp, open( \"yelp_raw.p\", \"wb\" ))"
   ]
  },
  {
   "cell_type": "code",
   "execution_count": 14,
   "metadata": {},
   "outputs": [],
   "source": [
    "yelp[~yelp.address.isna()]\n",
    "#looked this business up, could revist later. It has an address in CA and FL\n",
    "yelp = yelp.drop([2854], axis = 0)"
   ]
  },
  {
   "cell_type": "code",
   "execution_count": 15,
   "metadata": {},
   "outputs": [
    {
     "data": {
      "text/plain": [
       "0        [I went there twice since my first review,\\nOn...\n",
       "1        [I went in expecting a barber and instead I go...\n",
       "2        [Nahid's Hair Salon is surely one of the best ...\n",
       "3        [I have nothing but good things to say. I purc...\n",
       "4                                                       []\n",
       "                               ...                        \n",
       "58838    [I took my girlfriend here for her birthday, a...\n",
       "58839    [Flawless. If you're like me you may be skepti...\n",
       "58840    [This place is my favorite Korean spa!! I love...\n",
       "58841    [My husband and I came here a little while bac...\n",
       "58842    [This review is for the overnight stay, and I'...\n",
       "Name: reviews, Length: 58842, dtype: object"
      ]
     },
     "execution_count": 15,
     "metadata": {},
     "output_type": "execute_result"
    }
   ],
   "source": [
    "import json\n",
    "yelp[\"review_raw\"] = yelp[\"_raw\"].apply(lambda x: json.loads(x).get(\"review\"))\n",
    "yelp[\"reviews\"] = yelp[\"review_raw\"].apply(lambda x: [i.get(\"description\") for i in x])\n",
    "yelp[\"reviews\"]"
   ]
  },
  {
   "cell_type": "code",
   "execution_count": 16,
   "metadata": {},
   "outputs": [
    {
     "name": "stderr",
     "output_type": "stream",
     "text": [
      "/Users/michalgolovanevsky/anaconda3/lib/python3.7/site-packages/ipykernel_launcher.py:1: FutureWarning: The signature of `Series.to_csv` was aligned to that of `DataFrame.to_csv`, and argument 'header' will change its default value from False to True: please pass an explicit value to suppress this warning.\n",
      "  \"\"\"Entry point for launching an IPython kernel.\n"
     ]
    }
   ],
   "source": [
    "yelp[\"reviews\"].to_csv(\"yelp_reviews_list.csv\")"
   ]
  },
  {
   "cell_type": "code",
   "execution_count": 9,
   "metadata": {},
   "outputs": [],
   "source": [
    "yelp = yelp.drop([\"@context\", \"_raw\", \"splunk_server\", \"splunk_server_group\",\n",
    "              \"adLoggingInfo.slot\", \"adLoggingInfo.placement\", \"source\", \"sourcetype\"], axis = 1)"
   ]
  },
  {
   "cell_type": "code",
   "execution_count": 4,
   "metadata": {},
   "outputs": [],
   "source": [
    "rubmaps = pd.read_csv(\"CA_final.csv\")"
   ]
  },
  {
   "cell_type": "code",
   "execution_count": 21,
   "metadata": {},
   "outputs": [],
   "source": [
    "yelp[\"address.streetAddress\"] = yelp[\"address.streetAddress\"].str.replace(\"\\n\", \" \")"
   ]
  },
  {
   "cell_type": "code",
   "execution_count": 130,
   "metadata": {},
   "outputs": [
    {
     "data": {
      "text/plain": [
       "0        8000 Sunset Blvd Ste 19 Salon Republic, CA, 90046\n",
       "1                            7268 W Sunset Blvd, CA, 90046\n",
       "2                              1218 Irvine Blvd, CA, 92780\n",
       "3        8000 Sunset Blvd Ste 58 Salon Christopher Coru...\n",
       "4                   8000 Sunset Blvd studio  65, CA, 90046\n",
       "                               ...                        \n",
       "58838                          141 S Beverly Dr, CA, 90212\n",
       "58839                1101 S Vermont Ave Ste 226, CA, 90006\n",
       "58840                3442 Wilshire Blvd Ste 100, CA, 90010\n",
       "58841                       1354 N Highland Ave, CA, 90028\n",
       "58842                           620 S Union Ave, CA, 90017\n",
       "Name: address, Length: 58842, dtype: object"
      ]
     },
     "execution_count": 130,
     "metadata": {},
     "output_type": "execute_result"
    }
   ],
   "source": [
    "yelp[\"address.postalCode\"] = yelp[\"address.postalCode\"].astype(str).str[:-2]\n",
    "yelp[\"address\"] = yelp[\"address.streetAddress\"] + \", \" + yelp[\"address.addressRegion\"] + \", \" + yelp[\"address.postalCode\"]\n",
    "yelp[\"address\"]"
   ]
  },
  {
   "cell_type": "markdown",
   "metadata": {},
   "source": [
    "yelp = yelp.drop([\"address.streetAddress\", \"address.addressRegion\", \n",
    "           \"address.postalCode\"], axis = 1)"
   ]
  },
  {
   "cell_type": "code",
   "execution_count": 119,
   "metadata": {},
   "outputs": [
    {
     "data": {
      "text/plain": [
       "{'18177 S Western Ave Gardena', '3311 4th Ave San Diego'}"
      ]
     },
     "execution_count": 119,
     "metadata": {},
     "output_type": "execute_result"
    }
   ],
   "source": [
    "yelp_address = list(df[\"address.streetAddress\"])\n",
    "rubmaps_address = list(df2.address.str[:-11])\n",
    "set(yelp_address).intersection(rubmaps_address)"
   ]
  },
  {
   "cell_type": "code",
   "execution_count": 151,
   "metadata": {},
   "outputs": [
    {
     "data": {
      "text/plain": [
       "841"
      ]
     },
     "execution_count": 151,
     "metadata": {},
     "output_type": "execute_result"
    }
   ],
   "source": [
    "zips_r = []\n",
    "for s in rubmaps_address:\n",
    "    zips_r.append(s[-5:])\n",
    "common_zips = set(zips_y).intersection(zips_r)\n",
    "len(common_zips)"
   ]
  },
  {
   "cell_type": "code",
   "execution_count": null,
   "metadata": {},
   "outputs": [],
   "source": [
    "pickle.dump( yelp, open( \"yelp.p\", \"wb\" ))\n",
    "pickle.dump(rubmaps, open('rubmaps.p', 'wb'))"
   ]
  }
 ],
 "metadata": {
  "kernelspec": {
   "display_name": "Python 3",
   "language": "python",
   "name": "python3"
  },
  "language_info": {
   "codemirror_mode": {
    "name": "ipython",
    "version": 3
   },
   "file_extension": ".py",
   "mimetype": "text/x-python",
   "name": "python",
   "nbconvert_exporter": "python",
   "pygments_lexer": "ipython3",
   "version": "3.7.6"
  }
 },
 "nbformat": 4,
 "nbformat_minor": 4
}
